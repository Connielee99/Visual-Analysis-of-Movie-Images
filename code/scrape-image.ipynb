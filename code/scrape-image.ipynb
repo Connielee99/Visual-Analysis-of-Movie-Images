{
 "cells": [
  {
   "cell_type": "code",
   "execution_count": 1,
   "metadata": {},
   "outputs": [],
   "source": [
    "import re\n",
    "from collections import defaultdict\n",
    "import json\n",
    "import os\n",
    "import requests\n",
    "from bs4 import BeautifulSoup\n",
    "import urllib.request\n",
    "import pandas as pd"
   ]
  },
  {
   "cell_type": "code",
   "execution_count": 2,
   "metadata": {},
   "outputs": [],
   "source": [
    "#sci-fi popularity\n",
    "link = 'https://www.imdb.com/search/title/?genres=sci-fi&explore=title_type,genres&pf_rd_m=A2FGELUUNOQJNL&pf_rd_p=3396781f-d87f-4fac-8694-c56ce6f490fe&pf_rd_r=PD077K5BS0CH9730H7YS&pf_rd_s=center-1&pf_rd_t=15051&pf_rd_i=genre&ref_=ft_gnr_pr1_i_2'\n",
    "\n"
   ]
  },
  {
   "cell_type": "code",
   "execution_count": 3,
   "metadata": {},
   "outputs": [],
   "source": [
    "cwd = os.getcwd()\n",
    "image_folder = os.path.join(cwd, 'images')"
   ]
  },
  {
   "cell_type": "code",
   "execution_count": 9,
   "metadata": {},
   "outputs": [],
   "source": [
    "if not os.path.exists(image_folder):\n",
    "    os.mkdir(image_folder)"
   ]
  },
  {
   "cell_type": "code",
   "execution_count": 5,
   "metadata": {},
   "outputs": [],
   "source": [
    "# get an url for eacg image\n",
    "resp = requests.get(link)\n",
    "data = resp.content\n",
    "filtered = BeautifulSoup(data).find_all('div', attrs = {'class': 'lister-item mode-advanced'})\n",
    "\n"
   ]
  },
  {
   "cell_type": "code",
   "execution_count": 6,
   "metadata": {},
   "outputs": [],
   "source": [
    "names = []\n",
    "image_urls = []\n",
    "ratings = []\n",
    "years = []\n",
    "info_dict = defaultdict(list)\n",
    "for i in filtered:\n",
    "    image_url = i.select('img')[0]['loadlate']\n",
    "    year_x = i.find('span', attrs = {'class': 'lister-item-year text-muted unbold'}).text\n",
    "    year = int(re.findall('\\d+', year_x)[0])\n",
    "    #sometimes, there aren't ratings so I replace them with -1\n",
    "    try:\n",
    "        rating = float(i.find('div', attrs = {'class': 'inline-block ratings-imdb-rating'}).select('strong')[0].text)\n",
    "    except:\n",
    "        rating = -1  \n",
    "    name = i.select('img')[0]['alt']\n",
    "    names.append(name)\n",
    "    image_urls.append(image_url)\n",
    "    years.append(year)\n",
    "    ratings.append(rating)\n",
    "    info_dict[name] = [{'url': image_url, 'year': year, 'rating': rating}]"
   ]
  },
  {
   "cell_type": "code",
   "execution_count": 7,
   "metadata": {},
   "outputs": [],
   "source": [
    "# store image info into json file\n",
    "with open('./info.json', 'w+') as fw:\n",
    "    json.dump(info_dict, fw)"
   ]
  },
  {
   "cell_type": "code",
   "execution_count": 10,
   "metadata": {},
   "outputs": [],
   "source": [
    "#download the images to local image_folder by urls\n",
    "for i in range(len(names)):\n",
    "    store_as = os.path.join(image_folder, names[i])+'.jpg'\n",
    "    img_data = requests.get(image_urls[i]).content\n",
    "    with open(store_as, 'wb') as fb:\n",
    "        fb.write(img_data)"
   ]
  },
  {
   "cell_type": "code",
   "execution_count": null,
   "metadata": {},
   "outputs": [],
   "source": []
  }
 ],
 "metadata": {
  "kernelspec": {
   "display_name": "Python 3",
   "language": "python",
   "name": "python3"
  },
  "language_info": {
   "codemirror_mode": {
    "name": "ipython",
    "version": 3
   },
   "file_extension": ".py",
   "mimetype": "text/x-python",
   "name": "python",
   "nbconvert_exporter": "python",
   "pygments_lexer": "ipython3",
   "version": "3.7.3"
  }
 },
 "nbformat": 4,
 "nbformat_minor": 2
}
