{
 "cells": [
  {
   "cell_type": "markdown",
   "metadata": {},
   "source": [
    "## 1.Setup"
   ]
  },
  {
   "cell_type": "code",
   "execution_count": 3,
   "metadata": {},
   "outputs": [],
   "source": [
    "%matplotlib inline\n",
    "import numpy as np\n",
    "import matplotlib.pyplot as plt\n",
    "from skimage import io\n",
    "import skimage\n",
    "import os\n",
    "from skimage.color import rgb2hsv\n",
    "from skimage.color import rgb2gray\n",
    "import scipy.misc\n",
    "import imageio\n",
    "import pandas as pd\n",
    "from skimage.filters.rank import entropy\n",
    "from skimage.morphology import disk\n",
    "from skimage import img_as_ubyte\n",
    "import cv2\n",
    "from scipy import ndimage"
   ]
  },
  {
   "cell_type": "code",
   "execution_count": 4,
   "metadata": {},
   "outputs": [],
   "source": [
    "#data path\n",
    "DISNEY_DIR = \"images_disney\"\n",
    "HAYAO_DIR = \"images_hayao\""
   ]
  },
  {
   "cell_type": "markdown",
   "metadata": {},
   "source": [
    "## 2.Feature extraction"
   ]
  },
  {
   "cell_type": "code",
   "execution_count": 5,
   "metadata": {},
   "outputs": [],
   "source": [
    "def calc_stats(fname):\n",
    "    img =  io.imread(fname)\n",
    "    denoi_img= cv2.fastNlMeansDenoisingColored(img) # get the denoised image\n",
    "    hsv_img = rgb2hsv(denoi_img) # get the hsv image\n",
    "    hue_img = hsv_img[:, :, 0] #get the hues\n",
    "    saturation_img = hsv_img[:,:, 1] #get the saturations\n",
    "    value_img = hsv_img[:, :, 2] #get the values\n",
    "    ent_img = entropy(rgb2gray(denoi_img), disk(5)) #get the entropy\n",
    "    sobel_x = ndimage.sobel(value_img, axis=0, mode='constant')\n",
    "    sobel_y = ndimage.sobel(value_img, axis=1, mode='constant')\n",
    "    edge_image = np.hypot(sobel_x, sobel_y) # get the edges\n",
    "    return [img.shape[1],img.shape[0],np.mean(hue_img),np.mean(saturation_img),np.mean(value_img),np.mean(ent_img),np.sum(edge_image)/edge_image.size]"
   ]
  },
  {
   "cell_type": "code",
   "execution_count": 12,
   "metadata": {},
   "outputs": [
    {
     "data": {
      "text/html": [
       "<div>\n",
       "<style scoped>\n",
       "    .dataframe tbody tr th:only-of-type {\n",
       "        vertical-align: middle;\n",
       "    }\n",
       "\n",
       "    .dataframe tbody tr th {\n",
       "        vertical-align: top;\n",
       "    }\n",
       "\n",
       "    .dataframe thead th {\n",
       "        text-align: right;\n",
       "    }\n",
       "</style>\n",
       "<table border=\"1\" class=\"dataframe\">\n",
       "  <thead>\n",
       "    <tr style=\"text-align: right;\">\n",
       "      <th></th>\n",
       "      <th>width</th>\n",
       "      <th>height</th>\n",
       "      <th>mean_hue</th>\n",
       "      <th>mean_saturation</th>\n",
       "      <th>mean_value</th>\n",
       "      <th>mean_entropy</th>\n",
       "      <th>edge_sum</th>\n",
       "    </tr>\n",
       "  </thead>\n",
       "  <tbody>\n",
       "    <tr>\n",
       "      <th>0</th>\n",
       "      <td>67</td>\n",
       "      <td>98</td>\n",
       "      <td>0.272307</td>\n",
       "      <td>0.148943</td>\n",
       "      <td>0.831144</td>\n",
       "      <td>3.778824</td>\n",
       "      <td>0.819642</td>\n",
       "    </tr>\n",
       "    <tr>\n",
       "      <th>1</th>\n",
       "      <td>99</td>\n",
       "      <td>99</td>\n",
       "      <td>0.346913</td>\n",
       "      <td>0.500670</td>\n",
       "      <td>0.275656</td>\n",
       "      <td>4.424552</td>\n",
       "      <td>0.585586</td>\n",
       "    </tr>\n",
       "    <tr>\n",
       "      <th>2</th>\n",
       "      <td>99</td>\n",
       "      <td>99</td>\n",
       "      <td>0.453854</td>\n",
       "      <td>0.168975</td>\n",
       "      <td>0.484728</td>\n",
       "      <td>4.181699</td>\n",
       "      <td>0.481131</td>\n",
       "    </tr>\n",
       "    <tr>\n",
       "      <th>3</th>\n",
       "      <td>99</td>\n",
       "      <td>99</td>\n",
       "      <td>0.351184</td>\n",
       "      <td>0.669260</td>\n",
       "      <td>0.497502</td>\n",
       "      <td>4.214874</td>\n",
       "      <td>0.554411</td>\n",
       "    </tr>\n",
       "    <tr>\n",
       "      <th>4</th>\n",
       "      <td>99</td>\n",
       "      <td>99</td>\n",
       "      <td>0.136235</td>\n",
       "      <td>0.926444</td>\n",
       "      <td>0.331088</td>\n",
       "      <td>3.405405</td>\n",
       "      <td>0.365691</td>\n",
       "    </tr>\n",
       "  </tbody>\n",
       "</table>\n",
       "</div>"
      ],
      "text/plain": [
       "   width  height  mean_hue  mean_saturation  mean_value  mean_entropy  \\\n",
       "0     67      98  0.272307         0.148943    0.831144      3.778824   \n",
       "1     99      99  0.346913         0.500670    0.275656      4.424552   \n",
       "2     99      99  0.453854         0.168975    0.484728      4.181699   \n",
       "3     99      99  0.351184         0.669260    0.497502      4.214874   \n",
       "4     99      99  0.136235         0.926444    0.331088      3.405405   \n",
       "\n",
       "   edge_sum  \n",
       "0  0.819642  \n",
       "1  0.585586  \n",
       "2  0.481131  \n",
       "3  0.554411  \n",
       "4  0.365691  "
      ]
     },
     "execution_count": 12,
     "metadata": {},
     "output_type": "execute_result"
    }
   ],
   "source": [
    "# Read the images and extract their width, height, mean_hue, mean_saturation, mean_value, mean_entropy and sum of edges\n",
    "files = os.listdir(DISNEY_DIR)\n",
    "stats = []\n",
    "for fname in files:\n",
    "    if 'jpg' in fname:\n",
    "        stats.append(calc_stats(os.path.join(DISNEY_DIR , fname)))\n",
    "    else:\n",
    "        pass\n",
    "# make a dataframe and save it into a csv file\n",
    "disney_df = pd.DataFrame(stats)\n",
    "disney_df.columns = ['width','height','mean_hue','mean_saturation','mean_value','mean_entropy','edge_sum']\n",
    "disney_df.to_csv('disney_pics.csv')\n",
    "disney_df.head()"
   ]
  },
  {
   "cell_type": "code",
   "execution_count": 11,
   "metadata": {},
   "outputs": [
    {
     "data": {
      "text/html": [
       "<div>\n",
       "<style scoped>\n",
       "    .dataframe tbody tr th:only-of-type {\n",
       "        vertical-align: middle;\n",
       "    }\n",
       "\n",
       "    .dataframe tbody tr th {\n",
       "        vertical-align: top;\n",
       "    }\n",
       "\n",
       "    .dataframe thead th {\n",
       "        text-align: right;\n",
       "    }\n",
       "</style>\n",
       "<table border=\"1\" class=\"dataframe\">\n",
       "  <thead>\n",
       "    <tr style=\"text-align: right;\">\n",
       "      <th></th>\n",
       "      <th>width</th>\n",
       "      <th>height</th>\n",
       "      <th>mean_hue</th>\n",
       "      <th>mean_saturation</th>\n",
       "      <th>mean_value</th>\n",
       "      <th>mean_entropy</th>\n",
       "      <th>edge_sum</th>\n",
       "    </tr>\n",
       "  </thead>\n",
       "  <tbody>\n",
       "    <tr>\n",
       "      <th>0</th>\n",
       "      <td>67</td>\n",
       "      <td>98</td>\n",
       "      <td>0.281277</td>\n",
       "      <td>0.530815</td>\n",
       "      <td>0.231668</td>\n",
       "      <td>3.895495</td>\n",
       "      <td>0.583236</td>\n",
       "    </tr>\n",
       "    <tr>\n",
       "      <th>1</th>\n",
       "      <td>99</td>\n",
       "      <td>99</td>\n",
       "      <td>0.273528</td>\n",
       "      <td>0.405424</td>\n",
       "      <td>0.722306</td>\n",
       "      <td>4.257138</td>\n",
       "      <td>0.662596</td>\n",
       "    </tr>\n",
       "    <tr>\n",
       "      <th>2</th>\n",
       "      <td>147</td>\n",
       "      <td>100</td>\n",
       "      <td>0.600145</td>\n",
       "      <td>0.325997</td>\n",
       "      <td>0.711840</td>\n",
       "      <td>3.021263</td>\n",
       "      <td>0.270850</td>\n",
       "    </tr>\n",
       "    <tr>\n",
       "      <th>3</th>\n",
       "      <td>147</td>\n",
       "      <td>100</td>\n",
       "      <td>0.507668</td>\n",
       "      <td>0.685993</td>\n",
       "      <td>0.552678</td>\n",
       "      <td>3.737993</td>\n",
       "      <td>0.201171</td>\n",
       "    </tr>\n",
       "    <tr>\n",
       "      <th>4</th>\n",
       "      <td>147</td>\n",
       "      <td>100</td>\n",
       "      <td>0.154216</td>\n",
       "      <td>0.728086</td>\n",
       "      <td>0.574216</td>\n",
       "      <td>4.672342</td>\n",
       "      <td>0.498490</td>\n",
       "    </tr>\n",
       "  </tbody>\n",
       "</table>\n",
       "</div>"
      ],
      "text/plain": [
       "   width  height  mean_hue  mean_saturation  mean_value  mean_entropy  \\\n",
       "0     67      98  0.281277         0.530815    0.231668      3.895495   \n",
       "1     99      99  0.273528         0.405424    0.722306      4.257138   \n",
       "2    147     100  0.600145         0.325997    0.711840      3.021263   \n",
       "3    147     100  0.507668         0.685993    0.552678      3.737993   \n",
       "4    147     100  0.154216         0.728086    0.574216      4.672342   \n",
       "\n",
       "   edge_sum  \n",
       "0  0.583236  \n",
       "1  0.662596  \n",
       "2  0.270850  \n",
       "3  0.201171  \n",
       "4  0.498490  "
      ]
     },
     "execution_count": 11,
     "metadata": {},
     "output_type": "execute_result"
    }
   ],
   "source": [
    "# We do the same for Hayao images as what we do for Disney images\n",
    "files = os.listdir(HAYAO_DIR)\n",
    "stats = []\n",
    "for fname in files:\n",
    "    if 'jpg' in fname:\n",
    "        stats.append(calc_stats(os.path.join(HAYAO_DIR , fname)))\n",
    "    else:\n",
    "        pass\n",
    "hayao_df = pd.DataFrame(stats)\n",
    "hayao_df.columns = ['width','height','mean_hue','mean_saturation','mean_value','mean_entropy','edge_sum']\n",
    "hayao_df.to_csv('hayao_pics.csv')\n",
    "hayao_df.head()"
   ]
  },
  {
   "cell_type": "markdown",
   "metadata": {},
   "source": [
    "## 3.Ploting the features"
   ]
  },
  {
   "cell_type": "markdown",
   "metadata": {},
   "source": [
    "### 3.1 Size"
   ]
  },
  {
   "cell_type": "code",
   "execution_count": 34,
   "metadata": {},
   "outputs": [
    {
     "data": {
      "text/plain": [
       "<matplotlib.axes._subplots.AxesSubplot at 0x1eb393cdf98>"
      ]
     },
     "execution_count": 34,
     "metadata": {},
     "output_type": "execute_result"
    },
    {
     "data": {
      "image/png": "[encoded data removed]",
      "text/plain": [
       "<Figure size 432x288 with 1 Axes>"
      ]
     },
     "metadata": {
      "needs_background": "light"
     },
     "output_type": "display_data"
    }
   ],
   "source": [
    "disney_df.apply(lambda x: x[1]*x[2],axis = 1).hist(color = 'pink', range = (0,100))"
   ]
  },
  {
   "cell_type": "code",
   "execution_count": 33,
   "metadata": {},
   "outputs": [
    {
     "data": {
      "text/plain": [
       "<matplotlib.axes._subplots.AxesSubplot at 0x1eb39354fd0>"
      ]
     },
     "execution_count": 33,
     "metadata": {},
     "output_type": "execute_result"
    },
    {
     "data": {
      "image/png": "[encoded data removed]",
      "text/plain": [
       "<Figure size 432x288 with 1 Axes>"
      ]
     },
     "metadata": {
      "needs_background": "light"
     },
     "output_type": "display_data"
    }
   ],
   "source": [
    "hayao_df.apply(lambda x: x[1]*x[2],axis = 1).hist(range = (0,100))"
   ]
  },
  {
   "cell_type": "markdown",
   "metadata": {},
   "source": [
    "By comparing the histogram of the two datasets' size, we know that the images of these two different groups are roughly within the same range: 0-100. So the size of the images won't affect our prediction model we are building."
   ]
  },
  {
   "cell_type": "markdown",
   "metadata": {},
   "source": [
    "### 3.2 Hue"
   ]
  },
  {
   "cell_type": "code",
   "execution_count": 31,
   "metadata": {},
   "outputs": [
    {
     "data": {
      "text/plain": [
       "<matplotlib.axes._subplots.AxesSubplot at 0x1eb39301828>"
      ]
     },
     "execution_count": 31,
     "metadata": {},
     "output_type": "execute_result"
    },
    {
     "data": {
      "image/png": "[encoded data removed]",
      "text/plain": [
       "<Figure size 432x288 with 1 Axes>"
      ]
     },
     "metadata": {
      "needs_background": "light"
     },
     "output_type": "display_data"
    }
   ],
   "source": [
    "disney_df.mean_hue.hist(range = color = 'pink')"
   ]
  },
  {
   "cell_type": "code",
   "execution_count": 16,
   "metadata": {},
   "outputs": [
    {
     "data": {
      "text/plain": [
       "<matplotlib.axes._subplots.AxesSubplot at 0x1eb37aff828>"
      ]
     },
     "execution_count": 16,
     "metadata": {},
     "output_type": "execute_result"
    },
    {
     "data": {
      "image/png": "[encoded data removed]",
      "text/plain": [
       "<Figure size 432x288 with 1 Axes>"
      ]
     },
     "metadata": {
      "needs_background": "light"
     },
     "output_type": "display_data"
    }
   ],
   "source": [
    "hayao_df.mean_hue.hist()"
   ]
  },
  {
   "cell_type": "markdown",
   "metadata": {},
   "source": [
    "The values of mean hue of disney pictures seem more right skew than hayao's. There might be more red color in Disney's pictures."
   ]
  },
  {
   "cell_type": "markdown",
   "metadata": {},
   "source": [
    "### 3.3 Saturation"
   ]
  },
  {
   "cell_type": "code",
   "execution_count": 30,
   "metadata": {},
   "outputs": [
    {
     "data": {
      "text/plain": [
       "<matplotlib.axes._subplots.AxesSubplot at 0x1eb39285278>"
      ]
     },
     "execution_count": 30,
     "metadata": {},
     "output_type": "execute_result"
    },
    {
     "data": {
      "image/png": "[encoded data removed]",
      "text/plain": [
       "<Figure size 432x288 with 1 Axes>"
      ]
     },
     "metadata": {
      "needs_background": "light"
     },
     "output_type": "display_data"
    }
   ],
   "source": [
    "disney_df.mean_hue.hist(range = (0,1), density = True, color = 'pink')"
   ]
  },
  {
   "cell_type": "code",
   "execution_count": 25,
   "metadata": {},
   "outputs": [
    {
     "data": {
      "text/plain": [
       "<matplotlib.axes._subplots.AxesSubplot at 0x1eb38022208>"
      ]
     },
     "execution_count": 25,
     "metadata": {},
     "output_type": "execute_result"
    },
    {
     "data": {
      "image/png": "[encoded data removed]",
      "text/plain": [
       "<Figure size 432x288 with 1 Axes>"
      ]
     },
     "metadata": {
      "needs_background": "light"
     },
     "output_type": "display_data"
    }
   ],
   "source": [
    "hayao_df.mean_hue.hist(range = (0,1),density = True)"
   ]
  },
  {
   "cell_type": "markdown",
   "metadata": {},
   "source": [
    "The values of mean satuartion of disney pictures seem smaller than hayao's. Disney images might be more grey."
   ]
  },
  {
   "cell_type": "markdown",
   "metadata": {},
   "source": [
    "### 3.4 Value"
   ]
  },
  {
   "cell_type": "code",
   "execution_count": 37,
   "metadata": {},
   "outputs": [
    {
     "data": {
      "text/plain": [
       "<matplotlib.axes._subplots.AxesSubplot at 0x1eb3958a198>"
      ]
     },
     "execution_count": 37,
     "metadata": {},
     "output_type": "execute_result"
    },
    {
     "data": {
      "image/png": "[encoded data removed]",
      "text/plain": [
       "<Figure size 432x288 with 1 Axes>"
      ]
     },
     "metadata": {
      "needs_background": "light"
     },
     "output_type": "display_data"
    }
   ],
   "source": [
    "disney_df.mean_value.hist(range = (0,1), density = True, color = 'pink')"
   ]
  },
  {
   "cell_type": "code",
   "execution_count": 38,
   "metadata": {},
   "outputs": [
    {
     "data": {
      "text/plain": [
       "<matplotlib.axes._subplots.AxesSubplot at 0x1eb395e7828>"
      ]
     },
     "execution_count": 38,
     "metadata": {},
     "output_type": "execute_result"
    },
    {
     "data": {
      "image/png": "[encoded data removed]",
      "text/plain": [
       "<Figure size 432x288 with 1 Axes>"
      ]
     },
     "metadata": {
      "needs_background": "light"
     },
     "output_type": "display_data"
    }
   ],
   "source": [
    "hayao_df.mean_value.hist(range = (0,1),density = True)"
   ]
  },
  {
   "cell_type": "markdown",
   "metadata": {},
   "source": [
    "There's no obvious difference in mean values between these two datasets."
   ]
  },
  {
   "cell_type": "markdown",
   "metadata": {},
   "source": [
    "### 3.5 Entropy"
   ]
  },
  {
   "cell_type": "code",
   "execution_count": 40,
   "metadata": {},
   "outputs": [
    {
     "data": {
      "text/plain": [
       "<matplotlib.axes._subplots.AxesSubplot at 0x1eb3965ccc0>"
      ]
     },
     "execution_count": 40,
     "metadata": {},
     "output_type": "execute_result"
    },
    {
     "data": {
      "image/png": "[encoded data removed]",
      "text/plain": [
       "<Figure size 432x288 with 1 Axes>"
      ]
     },
     "metadata": {
      "needs_background": "light"
     },
     "output_type": "display_data"
    }
   ],
   "source": [
    "disney_df.mean_entropy.hist(range = (0,6),density = True, color = 'pink')"
   ]
  },
  {
   "cell_type": "code",
   "execution_count": 43,
   "metadata": {},
   "outputs": [
    {
     "data": {
      "text/plain": [
       "<matplotlib.axes._subplots.AxesSubplot at 0x1eb397f3400>"
      ]
     },
     "execution_count": 43,
     "metadata": {},
     "output_type": "execute_result"
    },
    {
     "data": {
      "image/png": "[encoded data removed]",
      "text/plain": [
       "<Figure size 432x288 with 1 Axes>"
      ]
     },
     "metadata": {
      "needs_background": "light"
     },
     "output_type": "display_data"
    }
   ],
   "source": [
    "hayao_df.mean_entropy.hist(range = (0,6),density = True)"
   ]
  },
  {
   "cell_type": "markdown",
   "metadata": {},
   "source": [
    "There might be some outliers in the disney datasets which makes it left skewed. But overall, hayao's pictures' entropy seems higher."
   ]
  },
  {
   "cell_type": "markdown",
   "metadata": {},
   "source": [
    "### 3.6 Edges"
   ]
  },
  {
   "cell_type": "code",
   "execution_count": 48,
   "metadata": {},
   "outputs": [
    {
     "data": {
      "text/plain": [
       "<matplotlib.axes._subplots.AxesSubplot at 0x1eb39a06080>"
      ]
     },
     "execution_count": 48,
     "metadata": {},
     "output_type": "execute_result"
    },
    {
     "data": {
      "image/png": "[encoded data removed]",
      "text/plain": [
       "<Figure size 432x288 with 1 Axes>"
      ]
     },
     "metadata": {
      "needs_background": "light"
     },
     "output_type": "display_data"
    }
   ],
   "source": [
    "disney_df.edge_sum.hist(range = (0,1.5),density = True, color = 'pink')"
   ]
  },
  {
   "cell_type": "code",
   "execution_count": 50,
   "metadata": {},
   "outputs": [
    {
     "data": {
      "text/plain": [
       "<matplotlib.axes._subplots.AxesSubplot at 0x1eb39b08908>"
      ]
     },
     "execution_count": 50,
     "metadata": {},
     "output_type": "execute_result"
    },
    {
     "data": {
      "image/png": "[encoded data removed]",
      "text/plain": [
       "<Figure size 432x288 with 1 Axes>"
      ]
     },
     "metadata": {
      "needs_background": "light"
     },
     "output_type": "display_data"
    }
   ],
   "source": [
    "hayao_df.edge_sum.hist(range = (0,1.5),density = True)"
   ]
  },
  {
   "cell_type": "markdown",
   "metadata": {},
   "source": [
    "These two distributions seem alike."
   ]
  }
 ],
 "metadata": {
  "kernelspec": {
   "display_name": "Python 3",
   "language": "python",
   "name": "python3"
  },
  "language_info": {
   "codemirror_mode": {
    "name": "ipython",
    "version": 3
   },
   "file_extension": ".py",
   "mimetype": "text/x-python",
   "name": "python",
   "nbconvert_exporter": "python",
   "pygments_lexer": "ipython3",
   "version": "3.7.3"
  }
 },
 "nbformat": 4,
 "nbformat_minor": 2
}
